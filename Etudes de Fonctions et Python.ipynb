{
 "cells": [
  {
   "cell_type": "markdown",
   "metadata": {},
   "source": [
    "<h1> Etudes de fonctions et Python</h1>"
   ]
  },
  {
   "cell_type": "markdown",
   "metadata": {},
   "source": [
    "Pour définir la fonction $f$ telle que $f(x)=\\dfrac{3x+2}{2x-3}$, on utilise la syntaxe suivante :"
   ]
  },
  {
   "cell_type": "code",
   "execution_count": 2,
   "metadata": {},
   "outputs": [],
   "source": [
    "#Cliquez dans la cellule puis CTRL+Entrée pour l'exécuter\n",
    "def f(x) :\n",
    "    return (3*x+2)/(2*x-3)"
   ]
  },
  {
   "cell_type": "markdown",
   "metadata": {},
   "source": [
    "Une fois la fonction définie, on peut l'utiliser par la suite de manière naturelle dans *Python* :"
   ]
  },
  {
   "cell_type": "code",
   "execution_count": 3,
   "metadata": {},
   "outputs": [
    {
     "data": {
      "text/plain": [
       "2.8"
      ]
     },
     "execution_count": 3,
     "metadata": {},
     "output_type": "execute_result"
    }
   ],
   "source": [
    "#Vous pouvez exécuter cette cellule, puis modifier plusieurs fois la valeur,\n",
    "#par exemple en utilisant 0,2, 1.5, etc...\n",
    "f(4)"
   ]
  },
  {
   "cell_type": "markdown",
   "metadata": {},
   "source": [
    "On peut améliorer l'écriture en intégrant une chaine de caractère formatée :"
   ]
  },
  {
   "cell_type": "code",
   "execution_count": 5,
   "metadata": {},
   "outputs": [
    {
     "name": "stdout",
     "output_type": "stream",
     "text": [
      "L'image de 2 est f(2)=8.0\n"
     ]
    }
   ],
   "source": [
    "print (\"L'image de {x} est f({x})={y}\".format(x=2,y=f(2)))"
   ]
  },
  {
   "cell_type": "markdown",
   "metadata": {},
   "source": [
    "Ou mieux encore, en définissant une variable et en appliquant cette variable à la chaine formatée :"
   ]
  },
  {
   "cell_type": "code",
   "execution_count": null,
   "metadata": {},
   "outputs": [],
   "source": [
    "a=4\n",
    "print (\"L'image de {x} est f({x})={y}\".format(x=a,y=f(a)))"
   ]
  },
  {
   "cell_type": "markdown",
   "metadata": {},
   "source": [
    "Pour afficher de multiples valeurs, par exemple toutes les valeurs entre -10 et **9** par pas de 1, on utilise une boucle *Pour* ( **for** en *Python* ) :"
   ]
  },
  {
   "cell_type": "code",
   "execution_count": null,
   "metadata": {},
   "outputs": [],
   "source": [
    "for a in range(-10,10,1) :\n",
    "    print(\"f({x})={y}\".format(x=a,y=f(a)))"
   ]
  },
  {
   "cell_type": "markdown",
   "metadata": {},
   "source": [
    "Pour représenter graphiquement notre fonction, nous devons d'abord importer les modules **matplotlib** et **numpy**, qui permettent de tracer des représentations graphiques."
   ]
  },
  {
   "cell_type": "code",
   "execution_count": null,
   "metadata": {},
   "outputs": [],
   "source": [
    "import matplotlib.pyplot as plt\n",
    "import numpy as np"
   ]
  },
  {
   "cell_type": "markdown",
   "metadata": {},
   "source": [
    "Il faut ensuite préparer une série de valeurs qui ensuite seront affichée sous la forme de points rouges ( *'r'* pour *red* et *o* pour le point rond) "
   ]
  },
  {
   "cell_type": "code",
   "execution_count": null,
   "metadata": {},
   "outputs": [],
   "source": [
    "valeurs_x=np.arange(-10,10,1)\n",
    "valeurs_y=[f(x) for x in valeurs_x]\n",
    "plt.plot(valeurs_x,valeurs_y,'ro')\n",
    "plt.show()"
   ]
  },
  {
   "cell_type": "markdown",
   "metadata": {},
   "source": [
    "On constate le placement des points. Avec la forme utilisée, les points ne sont pas reliés.\n",
    "On peut cependant conjecturer les variations de cette fonction. Ici elle semble décroissante sur $]-\\infty ; -1,5[$ puis sur $]-1,5 ; + \\infty[$.\n",
    "On cherche ensuite une méthode pour déterminer les antécédents de $0$ par la fonction $f$.\n",
    "Pour ce faire, le programme suivant utilise un algorithme particulier ( appelé **dichotomie** ), algorithme fonctionnant pour une fonction $f$ strictement monotone sur un intervalle $[a;b]$."
   ]
  },
  {
   "cell_type": "code",
   "execution_count": null,
   "metadata": {},
   "outputs": [],
   "source": [
    "def Approximation(f,z,a,b,n) :\n",
    "    \"\"\"Donne une valeur approchée par défaut de l'unique solution de f(x)=z, par dichotomie, sur l'intervalle fermé [a;b],\n",
    "    avec une précision de 10^(-n)\"\"\"\n",
    "    if (f(a)-z)*(f(b)-z)>0 :\n",
    "        return None\n",
    "    else :\n",
    "        debut=a\n",
    "        fin=b\n",
    "        while (fin-debut)>10**(-n) :\n",
    "            milieu=(fin+debut)/2\n",
    "            if (f(milieu)-z)*(f(debut)-z)<=0 :\n",
    "                fin=milieu\n",
    "            else :\n",
    "                debut=milieu\n",
    "                \n",
    "        return debut"
   ]
  },
  {
   "cell_type": "markdown",
   "metadata": {},
   "source": [
    "L'exécution de la cellule ci-dessus ne donnera aucun résultat, il permet juste de définir une **fonction informatique**, nommée **Approximation**, et utilisée dans la cellule ci-dessous :"
   ]
  },
  {
   "cell_type": "code",
   "execution_count": null,
   "metadata": {},
   "outputs": [],
   "source": [
    "print(Approximation(f,100,-10,0,3))"
   ]
  }
 ],
 "metadata": {
  "kernelspec": {
   "display_name": "Python 3",
   "language": "python",
   "name": "python3"
  },
  "language_info": {
   "codemirror_mode": {
    "name": "ipython",
    "version": 3
   },
   "file_extension": ".py",
   "mimetype": "text/x-python",
   "name": "python",
   "nbconvert_exporter": "python",
   "pygments_lexer": "ipython3",
   "version": "3.6.5"
  }
 },
 "nbformat": 4,
 "nbformat_minor": 2
}
